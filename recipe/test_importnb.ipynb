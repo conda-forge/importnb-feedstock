{
 "cells": [
  {
   "cell_type": "markdown",
   "id": "3e627819-5162-4d12-9812-b7b7a075acc9",
   "metadata": {},
   "source": [
    "# Tests of `importnb` during `conda-build`"
   ]
  },
  {
   "cell_type": "code",
   "execution_count": 2,
   "id": "82c1ccfd-be0e-4d10-a08d-4d18bf0ad5fd",
   "metadata": {},
   "outputs": [],
   "source": [
    "import os, sys"
   ]
  },
  {
   "cell_type": "code",
   "execution_count": 1,
   "id": "00f644f0-2513-4b74-a328-6843568132f7",
   "metadata": {},
   "outputs": [],
   "source": [
    "PKG_VERSION = os.environ.get(\"PKG_VERSION\")"
   ]
  },
  {
   "cell_type": "markdown",
   "id": "126fb0cc-f086-4d22-b4bc-7708d431772b",
   "metadata": {},
   "source": [
    "    >>> assert PKG_VERSION is not None"
   ]
  },
  {
   "cell_type": "code",
   "execution_count": null,
   "id": "6800a831-a140-4305-bc84-0150b4698550",
   "metadata": {},
   "outputs": [],
   "source": [
    "def test_version():\n",
    "    # TODO: fix after https://github.com/deathbeds/importnb/issues/134\n",
    "    import importnb._version, os\n",
    "    print(importnb._version.__version__)\n",
    "    assert importnb._version.__version__ == PKG_VERSION"
   ]
  },
  {
   "cell_type": "code",
   "execution_count": null,
   "id": "8bcb2fcc-e1ed-40f5-98e0-e1e2761edf84",
   "metadata": {},
   "outputs": [],
   "source": [
    "def test_version_import():\n",
    "    sys.path += [os.getcwd()]\n",
    "    with __import__(\"importnb\").Notebook():\n",
    "        import test_importnb\n",
    "    assert test_importnb.PKG_VERSION == PKG_VERSION"
   ]
  },
  {
   "cell_type": "code",
   "execution_count": null,
   "id": "45bdfd0f-011e-4640-b3dc-565e7387de78",
   "metadata": {},
   "outputs": [],
   "source": [
    "def test_fuzzy_version_import():\n",
    "    sys.path += [os.getcwd()]\n",
    "    with __import__(\"importnb\").Notebook():\n",
    "        import __est_imp__\n",
    "    assert __est_imp__.PKG_VERSION == PKG_VERSION"
   ]
  }
 ],
 "metadata": {
  "kernelspec": {
   "display_name": "Python 3 (ipykernel)",
   "language": "python",
   "name": "python3"
  },
  "language_info": {
   "codemirror_mode": {
    "name": "ipython",
    "version": 3
   },
   "file_extension": ".py",
   "mimetype": "text/x-python",
   "name": "python",
   "nbconvert_exporter": "python",
   "pygments_lexer": "ipython3",
   "version": "3.10.4"
  }
 },
 "nbformat": 4,
 "nbformat_minor": 5
}
